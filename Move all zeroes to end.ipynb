{
 "cells": [
  {
   "cell_type": "code",
   "execution_count": 1,
   "id": "ec9d6737-0711-48dc-bafb-7737b3410d2e",
   "metadata": {},
   "outputs": [
    {
     "name": "stdout",
     "output_type": "stream",
     "text": [
      "Output: [1, 1, 1, 1, 1, 0, 0]\n"
     ]
    }
   ],
   "source": [
    "#move all zeroes to end\n",
    "import numpy as np\n",
    "x = np.array([0,1,0,1,1,1,1])\n",
    "def Move_Zero_end(x):\n",
    "    Count_0 = 0\n",
    "    Store_1 = 0\n",
    "    for i in x:\n",
    "        if i == 1:\n",
    "            Store_1 += 1\n",
    "        else:\n",
    "            Count_0 += 1\n",
    "    result = ([1]*Store_1)+([0]*Count_0)\n",
    "    return result\n",
    "print(\"Output:\",Move_Zero_end(x))    "
   ]
  },
  {
   "cell_type": "code",
   "execution_count": null,
   "id": "53042d78-04af-40f2-a5d4-4c538a14a953",
   "metadata": {},
   "outputs": [],
   "source": []
  }
 ],
 "metadata": {
  "kernelspec": {
   "display_name": "Python 3 (ipykernel)",
   "language": "python",
   "name": "python3"
  },
  "language_info": {
   "codemirror_mode": {
    "name": "ipython",
    "version": 3
   },
   "file_extension": ".py",
   "mimetype": "text/x-python",
   "name": "python",
   "nbconvert_exporter": "python",
   "pygments_lexer": "ipython3",
   "version": "3.12.4"
  }
 },
 "nbformat": 4,
 "nbformat_minor": 5
}
