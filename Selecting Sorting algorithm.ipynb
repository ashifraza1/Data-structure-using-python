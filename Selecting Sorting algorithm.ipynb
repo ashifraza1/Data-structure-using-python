{
 "cells": [
  {
   "cell_type": "code",
   "execution_count": 5,
   "id": "ea4a9a1b-1f8b-4645-a97d-d46d1e4005ff",
   "metadata": {},
   "outputs": [
    {
     "name": "stdin",
     "output_type": "stream",
     "text": [
      "Enter number of elements:  4\n",
      "Enter element:  34\n",
      "Enter element:  45\n",
      "Enter element:  15\n",
      "Enter element:  45\n"
     ]
    },
    {
     "name": "stdout",
     "output_type": "stream",
     "text": [
      "The sorted elements are:\n",
      "15 34 45 45 "
     ]
    }
   ],
   "source": [
    "def selection_sort(lst):\n",
    "    size = len(lst)\n",
    "    for i in range(size - 1):\n",
    "        min_val = lst[i]  # Store the minimum value\n",
    "        posn = i  # Track the position of the minimum value\n",
    "        for j in range(i + 1, size):\n",
    "            if lst[j] < min_val:  # Compare to find the new minimum\n",
    "                min_val = lst[j]\n",
    "                posn = j\n",
    "        if i != posn:  # If the minimum value is not at the current position\n",
    "            lst[i], lst[posn] = lst[posn], lst[i]  # Swap\n",
    "\n",
    "n = int(input(\"Enter number of elements: \"))\n",
    "lst = []\n",
    "for i in range(n):\n",
    "    num = int(input(\"Enter element: \"))\n",
    "    lst.append(num)\n",
    "\n",
    "selection_sort(lst)\n",
    "\n",
    "print(\"The sorted elements are:\")\n",
    "for i in range(n):\n",
    "    print(lst[i], end=\" \")\n"
   ]
  },
  {
   "cell_type": "code",
   "execution_count": null,
   "id": "aa55a587-f998-48de-b062-c16eca464e4b",
   "metadata": {},
   "outputs": [],
   "source": []
  }
 ],
 "metadata": {
  "kernelspec": {
   "display_name": "Python 3 (ipykernel)",
   "language": "python",
   "name": "python3"
  },
  "language_info": {
   "codemirror_mode": {
    "name": "ipython",
    "version": 3
   },
   "file_extension": ".py",
   "mimetype": "text/x-python",
   "name": "python",
   "nbconvert_exporter": "python",
   "pygments_lexer": "ipython3",
   "version": "3.12.4"
  }
 },
 "nbformat": 4,
 "nbformat_minor": 5
}
