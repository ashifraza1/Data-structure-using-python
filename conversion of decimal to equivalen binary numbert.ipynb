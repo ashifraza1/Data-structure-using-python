{
 "cells": [
  {
   "cell_type": "code",
   "execution_count": 7,
   "id": "341e2389-6ed7-4cd2-ba81-64c8f7a7478b",
   "metadata": {},
   "outputs": [
    {
     "name": "stdout",
     "output_type": "stream",
     "text": [
      "The binary equivalent of 13 is 1101\n"
     ]
    }
   ],
   "source": [
    "#5 write a recursive function to convert a decimal number to its equivalent binary number\n",
    "def decimal_to_binary(n):\n",
    "    # Base case: if n is 0, return an empty string\n",
    "    if n == 0:\n",
    "        return \"\"\n",
    "    else:\n",
    "        # Recursive case: divide n by 2 and append the remainder\n",
    "        return decimal_to_binary(n // 2) + str(n % 2)\n",
    "\n",
    "# Example usage:\n",
    "n = 13\n",
    "binary = decimal_to_binary(n)\n",
    "# Handle the case for 0, as it returns an empty string\n",
    "binary = binary if binary else \"0\"\n",
    "print(f\"The binary equivalent of {n} is {binary}\")\n",
    "\n"
   ]
  },
  {
   "cell_type": "code",
   "execution_count": null,
   "id": "6546c97e-a343-4cd7-bdfe-b9fc6b015c22",
   "metadata": {},
   "outputs": [],
   "source": []
  }
 ],
 "metadata": {
  "kernelspec": {
   "display_name": "Python 3 (ipykernel)",
   "language": "python",
   "name": "python3"
  },
  "language_info": {
   "codemirror_mode": {
    "name": "ipython",
    "version": 3
   },
   "file_extension": ".py",
   "mimetype": "text/x-python",
   "name": "python",
   "nbconvert_exporter": "python",
   "pygments_lexer": "ipython3",
   "version": "3.12.4"
  }
 },
 "nbformat": 4,
 "nbformat_minor": 5
}
