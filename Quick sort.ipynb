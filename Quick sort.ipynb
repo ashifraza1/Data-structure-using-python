{
 "cells": [
  {
   "cell_type": "code",
   "execution_count": 7,
   "id": "ea4a9a1b-1f8b-4645-a97d-d46d1e4005ff",
   "metadata": {},
   "outputs": [
    {
     "name": "stdin",
     "output_type": "stream",
     "text": [
      "Enter number of elements:  4\n",
      "Enter element:  34\n",
      "Enter element:  65\n",
      "Enter element:  87\n",
      "Enter element:  45\n"
     ]
    },
    {
     "name": "stdout",
     "output_type": "stream",
     "text": [
      "The sorted elements are:\n",
      "34 45 65 87 "
     ]
    }
   ],
   "source": [
    "def partitionlist(arr, left, right):\n",
    "pivot = arr[right] # Pivot chosen as the rightmost element\n",
    "i = left - 1 # Pointer for the smaller element\n",
    "for j in range(left, right):\n",
    "if arr[j] <= pivot: # If the current element is smaller than or\n",
    "equal to the pivot\n",
    "i += 1 # Increment the pointer\n",
    "arr[i], arr[j] = arr[j], arr[i] # Swap the elements\n",
    "# Swap the pivot element to its correct position\n",
    "arr[i + 1], arr[right] = arr[right], arr[i + 1]\n",
    "return i + 1 # Return the pivot index\n",
    "def quicksort(arr, left, right):\n",
    "if left < right:\n",
    "loc = partitionlist(arr, left, right) # Partition the array\n",
    "quicksort(arr, left, loc - 1) # Recursively sort the left part\n",
    "quicksort(arr, loc + 1, right) # Recursively sort the right part\n",
    "# Input and execution\n",
    "arr = []\n",
    "n = int(input(\"Enter number of elements: \"))\n",
    "for i in range(n):\n",
    "arr.append(int(input(\"Enter number: \")))\n",
    "print(\"Original Array:\", arr)\n",
    "quicksort(arr, 0, n - 1)\n",
    "print(\"Sorted Array:\", arr)"
   ]
  },
  {
   "cell_type": "code",
   "execution_count": null,
   "id": "aa55a587-f998-48de-b062-c16eca464e4b",
   "metadata": {},
   "outputs": [],
   "source": []
  }
 ],
 "metadata": {
  "kernelspec": {
   "display_name": "Python 3 (ipykernel)",
   "language": "python",
   "name": "python3"
  },
  "language_info": {
   "codemirror_mode": {
    "name": "ipython",
    "version": 3
   },
   "file_extension": ".py",
   "mimetype": "text/x-python",
   "name": "python",
   "nbconvert_exporter": "python",
   "pygments_lexer": "ipython3",
   "version": "3.12.4"
  }
 },
 "nbformat": 4,
 "nbformat_minor": 5
}
