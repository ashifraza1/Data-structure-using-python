{
 "cells": [
  {
   "cell_type": "code",
   "execution_count": 20,
   "id": "d22431c9-e022-4ee7-b50e-84589f55874b",
   "metadata": {},
   "outputs": [
    {
     "ename": "SyntaxError",
     "evalue": "invalid syntax (1911663882.py, line 13)",
     "output_type": "error",
     "traceback": [
      "\u001b[1;36m  Cell \u001b[1;32mIn[20], line 13\u001b[1;36m\u001b[0m\n\u001b[1;33m    lst[]\u001b[0m\n\u001b[1;37m        ^\u001b[0m\n\u001b[1;31mSyntaxError\u001b[0m\u001b[1;31m:\u001b[0m invalid syntax\n"
     ]
    }
   ],
   "source": [
    "def bubble_sort(lst):\n",
    "    size=len(list)\n",
    "    for i in range(size-1):\n",
    "        for j in range(size-1-i):\n",
    "            if list[j]>list[j+1]:\n",
    "                tem=list[j]\n",
    "                list[j]=list[j+1]\n",
    "                list[j+1]=temp\n",
    "\n",
    "\n",
    "\n",
    "n=int(input(\"Enter number of element:\"))\n",
    "lst[]\n",
    "for i in range (n):\n",
    "    num=int(input(\"eneter elements\"))\n",
    "    lst.append(num)\n",
    "\n",
    "\n",
    "bubble_sort(lst)\n",
    "print(\"The sorted element are:\")\n",
    "for i in range(n):\n",
    "    print(lst[i],end== \" \")"
   ]
  },
  {
   "cell_type": "code",
   "execution_count": 22,
   "id": "2febeb48-f8a7-45a0-b55e-7ecd99fdca3e",
   "metadata": {},
   "outputs": [
    {
     "name": "stdin",
     "output_type": "stream",
     "text": [
      "Enter number of elements:  4\n",
      "Enter element:  6\n",
      "Enter element:  5\n",
      "Enter element:  9\n",
      "Enter element:  2\n"
     ]
    },
    {
     "name": "stdout",
     "output_type": "stream",
     "text": [
      "The sorted elements are:\n",
      "2 5 6 9 "
     ]
    }
   ],
   "source": [
    "def bubble_sort(lst):\n",
    "    size = len(lst)\n",
    "    for i in range(size-1):\n",
    "        for j in range(size-1-i):  # Optimized to avoid unnecessary comparisons\n",
    "            if lst[j] > lst[j+1]:\n",
    "                temp = lst[j]\n",
    "                lst[j] = lst[j+1]\n",
    "                lst[j+1] = temp\n",
    "\n",
    "n = int(input(\"Enter number of elements: \"))\n",
    "lst = []  # Initialize the list\n",
    "for i in range(n):\n",
    "    num = int(input(\"Enter element: \"))\n",
    "    lst.append(num)\n",
    "\n",
    "bubble_sort(lst)\n",
    "print(\"The sorted elements are:\")\n",
    "for i in range(n):\n",
    "    print(lst[i], end=\" \")\n"
   ]
  },
  {
   "cell_type": "code",
   "execution_count": null,
   "id": "a4c1ae1b-b006-4dc0-b88a-84fd4e946270",
   "metadata": {},
   "outputs": [],
   "source": []
  }
 ],
 "metadata": {
  "kernelspec": {
   "display_name": "Python 3 (ipykernel)",
   "language": "python",
   "name": "python3"
  },
  "language_info": {
   "codemirror_mode": {
    "name": "ipython",
    "version": 3
   },
   "file_extension": ".py",
   "mimetype": "text/x-python",
   "name": "python",
   "nbconvert_exporter": "python",
   "pygments_lexer": "ipython3",
   "version": "3.12.4"
  }
 },
 "nbformat": 4,
 "nbformat_minor": 5
}
