{
 "cells": [
  {
   "cell_type": "code",
   "execution_count": null,
   "id": "ea4a9a1b-1f8b-4645-a97d-d46d1e4005ff",
   "metadata": {},
   "outputs": [
    {
     "name": "stdin",
     "output_type": "stream",
     "text": [
      "Enter number of elements:  4\n",
      "Enter element:  23\n",
      "Enter element:  45\n",
      "Enter element:  67\n"
     ]
    }
   ],
   "source": [
    "def insertion_sort(lst):\n",
    "    size = len(lst)\n",
    "    for i in range(1, size):\n",
    "        temp = lst[i]\n",
    "        j = i - 1\n",
    "        while j >= 0 and temp < lst[j]:\n",
    "            lst[j + 1] = lst[j]\n",
    "            j = j - 1\n",
    "        lst[j + 1] = temp\n",
    "\n",
    "n = int(input(\"Enter number of elements: \"))\n",
    "lst = []\n",
    "for i in range(n):\n",
    "    num = int(input(\"Enter element: \"))\n",
    "    lst.append(num)\n",
    "\n",
    "insertion_sort(lst)\n",
    "\n",
    "print(\"The sorted elements are:\")\n",
    "for i in range(n):\n",
    "    print(lst[i], end=\" \")\n"
   ]
  },
  {
   "cell_type": "code",
   "execution_count": null,
   "id": "aa55a587-f998-48de-b062-c16eca464e4b",
   "metadata": {},
   "outputs": [],
   "source": []
  }
 ],
 "metadata": {
  "kernelspec": {
   "display_name": "Python 3 (ipykernel)",
   "language": "python",
   "name": "python3"
  },
  "language_info": {
   "codemirror_mode": {
    "name": "ipython",
    "version": 3
   },
   "file_extension": ".py",
   "mimetype": "text/x-python",
   "name": "python",
   "nbconvert_exporter": "python",
   "pygments_lexer": "ipython3",
   "version": "3.12.4"
  }
 },
 "nbformat": 4,
 "nbformat_minor": 5
}
